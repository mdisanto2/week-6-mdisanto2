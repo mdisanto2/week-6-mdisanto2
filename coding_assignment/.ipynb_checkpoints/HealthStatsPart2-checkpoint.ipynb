{
 "cells": [
  {
   "cell_type": "markdown",
   "metadata": {},
   "source": [
    "# Health Stats Part 1: Waist 2 Hip Ratios"
   ]
  },
  {
   "cell_type": "markdown",
   "metadata": {},
   "source": [
    "<!--- Write an explanation of the Waist To Hips Ratio statistic used by health professionals. Please include an explanation of what it is used for, exactly how it is calculated, and how to interpret the results. Note: Formmatting matters. Make this as professional as you can using Markdown.  --->\n",
    "\n",
    "<!--- feel free to use any web resources, including [Wikipedia](https://en.wikipedia.org/wiki/Waist%E2%80%93hip_ratio) or any other resources that you can find online. Just MAKE SURE you provide a link to every resource you decide to use. --->\n",
    "\n",
    "<!--- Including the formula, or that fancy diagram/table you see on wikipedia is DEFINITELY a good idea! How? The LaTeX equations section in [This link](https://jupyter-notebook.readthedocs.io/en/stable/examples/Notebook/Working%20With%20Markdown%20Cells.html) might help. --->\n",
    "\n",
    "<!--- For extra points, try to create a table similar to the one on the wikipedia page on your own. --->\n",
    "\n",
    "__EDIT THIS MARKDOWN CELL__"
   ]
  },
  {
   "cell_type": "markdown",
   "metadata": {},
   "source": [
    "## Source Data "
   ]
  },
  {
   "cell_type": "markdown",
   "metadata": {},
   "source": [
    "<!--- Replace the text below with a Markdown bullet list that defines the columns of the CSV file. Be sure to indicate the data type for each column. --->\n",
    "\n",
    "<!--- Example can be: ID, unique identifier of each person, integer. Remember you need to put this into a bullet list! How? [This link](https://jupyter-notebook.readthedocs.io/en/stable/examples/Notebook/Working%20With%20Markdown%20Cells.html) might help. --->\n",
    "\n",
    "<!--- These two markdown cells are required in almost any analytical report. --->\n",
    "\n",
    "__EDIT THIS MARKDOWN CELL__\n",
    "\n",
    "W2H Ratio\n",
    "- point1\n",
    "- point2\n",
    "\n",
    "<img src = 'https://upload.wikimedia.org/wikipedia/commons/3/34/Abdominal_obesity_in_men.jpg' />\n",
    "\n",
    "| header1 | header2 |\n",
    "| ------- | ------- |\n",
    "| cell1 | cell 2 |\n",
    "\n",
    "$ ratio_{w2h} = \\frac{w}{h} $"
   ]
  },
  {
   "cell_type": "markdown",
   "metadata": {},
   "source": [
    "## Data Import"
   ]
  },
  {
   "cell_type": "code",
   "execution_count": 3,
   "metadata": {
    "collapsed": true
   },
   "outputs": [],
   "source": [
    "# Goal: Extract the data from the file\n",
    "\n",
    "# opens the w2h_data.csv for reading\n",
    "f = open(\"w2h_data.csv\", \"r\")\n",
    "\n",
    "# loads the file into a list of strings, one string per line\n",
    "raw_lines = list(f)\n",
    "\n",
    "# closes the file\n",
    "f.close()"
   ]
  },
  {
   "cell_type": "code",
   "execution_count": 19,
   "metadata": {
    "collapsed": true
   },
   "outputs": [
    {
     "name": "stdout",
     "output_type": "stream",
     "text": [
      "[{'ID': 1, 'Waist': 30, 'Hip': 32, 'Gender': 'M'}, {'ID': 2, 'Waist': 32, 'Hip': 37, 'Gender': 'M'}, {'ID': 3, 'Waist': 30, 'Hip': 36, 'Gender': 'M'}, {'ID': 4, 'Waist': 33, 'Hip': 39, 'Gender': 'M'}, {'ID': 5, 'Waist': 29, 'Hip': 33, 'Gender': 'M'}, {'ID': 6, 'Waist': 32, 'Hip': 38, 'Gender': 'M'}, {'ID': 7, 'Waist': 33, 'Hip': 42, 'Gender': 'M'}, {'ID': 8, 'Waist': 30, 'Hip': 40, 'Gender': 'M'}, {'ID': 9, 'Waist': 30, 'Hip': 37, 'Gender': 'M'}, {'ID': 10, 'Waist': 32, 'Hip': 39, 'Gender': 'M'}, {'ID': 11, 'Waist': 24, 'Hip': 35, 'Gender': 'F'}, {'ID': 12, 'Waist': 25, 'Hip': 37, 'Gender': 'F'}, {'ID': 13, 'Waist': 24, 'Hip': 37, 'Gender': 'F'}, {'ID': 14, 'Waist': 22, 'Hip': 34, 'Gender': 'F'}, {'ID': 15, 'Waist': 26, 'Hip': 38, 'Gender': 'F'}, {'ID': 16, 'Waist': 26, 'Hip': 37, 'Gender': 'F'}, {'ID': 17, 'Waist': 25, 'Hip': 38, 'Gender': 'F'}, {'ID': 18, 'Waist': 26, 'Hip': 37, 'Gender': 'F'}, {'ID': 19, 'Waist': 28, 'Hip': 40, 'Gender': 'F'}, {'ID': 20, 'Waist': 23, 'Hip': 35, 'Gender': 'F'}]\n"
     ]
    }
   ],
   "source": [
    "# Goal: Scrub and convert the data, loading it into a new list called rows\n",
    "\n",
    "# Strips out newline '\\n' characters and converts to a list\n",
    "raw_rows = [r.rstrip('\\n').split(',') for r in raw_lines] # <--- Whoa. Why does this work? \n",
    "\n",
    "# Creates a new list, starting with just the column names\n",
    "rows = list() \n",
    "\n",
    "# The first row is the keys wit the column names\n",
    "keys = raw_rows[0];\n",
    "\n",
    "# Convert each row_row, starting with the second\n",
    "for raw_row in raw_rows[1:]:\n",
    "    \n",
    "    # Note: the values in the raw_row list are all strings.\n",
    "    # Create a new list called row that converts each item in raw_row to the right data type  \n",
    "    row ={keys[0]:int(raw_row[0]),keys[1]:int(raw_row[1]),keys[2]:int(raw_row[2]),keys[3]:raw_row[3]} # FIX THIS; you'll need to use conversion functions\n",
    "    \n",
    "    # structure the row as a dict  <-- FIX THIS: Write your code below\n",
    "    dict=(row)\n",
    "    \n",
    "    # Append the new row to the rows list as a dictionary <-- FIX THIS: Write your code below\n",
    "    rows.append(dict)\n",
    "    \n",
    "    \n",
    "# from here on out use the rows list instead of raw_rows or raw_lines\n",
    "print(rows)"
   ]
  },
  {
   "cell_type": "markdown",
   "metadata": {},
   "source": [
    "## Calculations"
   ]
  },
  {
   "cell_type": "code",
   "execution_count": 24,
   "metadata": {
    "collapsed": true
   },
   "outputs": [
    {
     "name": "stdout",
     "output_type": "stream",
     "text": [
      "[{'ID': 1, 'Waist': 30, 'Hip': 32, 'Gender': 'M'}, {'ID': 2, 'Waist': 32, 'Hip': 37, 'Gender': 'M', 'w2h_ratio': 0.8648648648648649, 'shape': 'Pear'}, {'ID': 3, 'Waist': 30, 'Hip': 36, 'Gender': 'M', 'w2h_ratio': 0.8333333333333334, 'shape': 'Pear'}, {'ID': 4, 'Waist': 33, 'Hip': 39, 'Gender': 'M', 'w2h_ratio': 0.8461538461538461, 'shape': 'Pear'}, {'ID': 5, 'Waist': 29, 'Hip': 33, 'Gender': 'M', 'w2h_ratio': 0.8787878787878788, 'shape': 'Pear'}, {'ID': 6, 'Waist': 32, 'Hip': 38, 'Gender': 'M', 'w2h_ratio': 0.8421052631578947, 'shape': 'Pear'}, {'ID': 7, 'Waist': 33, 'Hip': 42, 'Gender': 'M', 'w2h_ratio': 0.7857142857142857, 'shape': 'Pear'}, {'ID': 8, 'Waist': 30, 'Hip': 40, 'Gender': 'M', 'w2h_ratio': 0.75, 'shape': 'Pear'}, {'ID': 9, 'Waist': 30, 'Hip': 37, 'Gender': 'M', 'w2h_ratio': 0.8108108108108109, 'shape': 'Pear'}, {'ID': 10, 'Waist': 32, 'Hip': 39, 'Gender': 'M', 'w2h_ratio': 0.8205128205128205, 'shape': 'Pear'}, {'ID': 11, 'Waist': 24, 'Hip': 35, 'Gender': 'F', 'w2h_ratio': 0.6857142857142857, 'shape': 'Pear'}, {'ID': 12, 'Waist': 25, 'Hip': 37, 'Gender': 'F', 'w2h_ratio': 0.6756756756756757, 'shape': 'Pear'}, {'ID': 13, 'Waist': 24, 'Hip': 37, 'Gender': 'F', 'w2h_ratio': 0.6486486486486487, 'shape': 'Pear'}, {'ID': 14, 'Waist': 22, 'Hip': 34, 'Gender': 'F', 'w2h_ratio': 0.6470588235294118, 'shape': 'Pear'}, {'ID': 15, 'Waist': 26, 'Hip': 38, 'Gender': 'F', 'w2h_ratio': 0.6842105263157895, 'shape': 'Pear'}, {'ID': 16, 'Waist': 26, 'Hip': 37, 'Gender': 'F', 'w2h_ratio': 0.7027027027027027, 'shape': 'Pear'}, {'ID': 17, 'Waist': 25, 'Hip': 38, 'Gender': 'F', 'w2h_ratio': 0.6578947368421053, 'shape': 'Pear'}, {'ID': 18, 'Waist': 26, 'Hip': 37, 'Gender': 'F', 'w2h_ratio': 0.7027027027027027, 'shape': 'Pear'}, {'ID': 19, 'Waist': 28, 'Hip': 40, 'Gender': 'F', 'w2h_ratio': 0.7, 'shape': 'Pear'}, {'ID': 20, 'Waist': 23, 'Hip': 35, 'Gender': 'F', 'w2h_ratio': 0.6571428571428571, 'shape': 'Pear'}]\n"
     ]
    }
   ],
   "source": [
    "# Adds columns for the two new features\n",
    "keys.extend([\"W2H Ratio\",\"Shape\"])\n",
    "\n",
    "# For each row in the rows list, calculate the waist to hips ratio and shape\n",
    "for row in rows[1:]:\n",
    "    # Calculate the w2h_ratio\n",
    "    w2h_ratio = row['Waist']/row['Hip']\n",
    "    \n",
    "    # Based on the ratio and the gender, set the variable shape to either 'Apple' or 'Pear'\n",
    "    shape = 'Pear'\n",
    "    if row['Gender'] =='F' and w2h_ratio <=0.80:\n",
    "        shape='Pear'\n",
    "    elif row['Gender'] =='F':\n",
    "        shape='Apple'\n",
    "    elif row['Gender'] == 'M' and w2h_ratio <=0.90:\n",
    "        shape = 'Pear'\n",
    "    else:\n",
    "        shape = 'Apple'\n",
    "    \n",
    "\n",
    "    # Add the new data to the end of the row\n",
    "    row['w2h_ratio'] = w2h_ratio\n",
    "    row['shape'] = shape\n",
    "print(rows)"
   ]
  },
  {
   "cell_type": "markdown",
   "metadata": {},
   "source": [
    "## Output"
   ]
  },
  {
   "cell_type": "code",
   "execution_count": 25,
   "metadata": {
    "collapsed": false
   },
   "outputs": [
    {
     "data": {
      "text/html": [
       "<table><tr><th>ID</th><th>Waist</th><th>Hip</th><th>Gender</th></tr><tr><td>1</td><td>30</td><td>32</td><td>M</td></tr><tr><td>2</td><td>32</td><td>37</td><td>M</td><td>0.8648648648648649</td><td>Pear</td></tr><tr><td>3</td><td>30</td><td>36</td><td>M</td><td>0.8333333333333334</td><td>Pear</td></tr><tr><td>4</td><td>33</td><td>39</td><td>M</td><td>0.8461538461538461</td><td>Pear</td></tr><tr><td>5</td><td>29</td><td>33</td><td>M</td><td>0.8787878787878788</td><td>Pear</td></tr><tr><td>6</td><td>32</td><td>38</td><td>M</td><td>0.8421052631578947</td><td>Pear</td></tr><tr><td>7</td><td>33</td><td>42</td><td>M</td><td>0.7857142857142857</td><td>Pear</td></tr><tr><td>8</td><td>30</td><td>40</td><td>M</td><td>0.75</td><td>Pear</td></tr><tr><td>9</td><td>30</td><td>37</td><td>M</td><td>0.8108108108108109</td><td>Pear</td></tr><tr><td>10</td><td>32</td><td>39</td><td>M</td><td>0.8205128205128205</td><td>Pear</td></tr><tr><td>11</td><td>24</td><td>35</td><td>F</td><td>0.6857142857142857</td><td>Pear</td></tr><tr><td>12</td><td>25</td><td>37</td><td>F</td><td>0.6756756756756757</td><td>Pear</td></tr><tr><td>13</td><td>24</td><td>37</td><td>F</td><td>0.6486486486486487</td><td>Pear</td></tr><tr><td>14</td><td>22</td><td>34</td><td>F</td><td>0.6470588235294118</td><td>Pear</td></tr><tr><td>15</td><td>26</td><td>38</td><td>F</td><td>0.6842105263157895</td><td>Pear</td></tr><tr><td>16</td><td>26</td><td>37</td><td>F</td><td>0.7027027027027027</td><td>Pear</td></tr><tr><td>17</td><td>25</td><td>38</td><td>F</td><td>0.6578947368421053</td><td>Pear</td></tr><tr><td>18</td><td>26</td><td>37</td><td>F</td><td>0.7027027027027027</td><td>Pear</td></tr><tr><td>19</td><td>28</td><td>40</td><td>F</td><td>0.7</td><td>Pear</td></tr><tr><td>20</td><td>23</td><td>35</td><td>F</td><td>0.6571428571428571</td><td>Pear</td></tr></table>"
      ],
      "text/plain": [
       "<IPython.core.display.HTML object>"
      ]
     },
     "metadata": {},
     "output_type": "display_data"
    }
   ],
   "source": [
    "# Goal: pretty print the rows as an HTML table\n",
    "\n",
    "# Note: this works, but we can do this much better with pandas\n",
    "html_table = '<table><tr><th>'\n",
    "html_table += \"</th><th>\".join(rows[0].keys())\n",
    "html_table += '</th></tr>'\n",
    "for row in rows:\n",
    "    html_table += \"<tr><td>\"\n",
    "    html_table += \"</td><td>\".join(str(v) for v in row.values())\n",
    "    html_table += \"</td></tr>\"\n",
    "html_table += \"</table>\"\n",
    "\n",
    "from IPython.display import HTML, display\n",
    "display(HTML(html_table))"
   ]
  },
  {
   "cell_type": "code",
   "execution_count": null,
   "metadata": {
    "collapsed": true
   },
   "outputs": [],
   "source": []
  }
 ],
 "metadata": {
  "kernelspec": {
   "display_name": "Python 3",
   "language": "python",
   "name": "python3"
  },
  "language_info": {
   "codemirror_mode": {
    "name": "ipython",
    "version": 3
   },
   "file_extension": ".py",
   "mimetype": "text/x-python",
   "name": "python",
   "nbconvert_exporter": "python",
   "pygments_lexer": "ipython3",
   "version": "3.6.7"
  }
 },
 "nbformat": 4,
 "nbformat_minor": 2
}
